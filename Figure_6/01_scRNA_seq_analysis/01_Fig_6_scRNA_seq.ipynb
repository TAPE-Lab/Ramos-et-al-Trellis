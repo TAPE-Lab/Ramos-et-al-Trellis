{
 "cells": [
  {
   "attachments": {},
   "cell_type": "markdown",
   "metadata": {
    "tags": []
   },
   "source": [
    "# Analysis of PDO-21 and PDO-27 datasets for Figure 6 and SF6\n",
    "\n",
    "This notebook generates figures for Figure 6 and SF6. The processed anndata is loaded and MELD analysis performed on PDO derived epithelial cells from PDO-21 and PDO-27. proCSC and revCSC gene module scores based on known gene signatures are then calculated for the PDO-21 and PDO-27. The anndata inputs and outputs of this notebook can be found at this zenodo link: https://zenodo.org/records/8177571"
   ]
  },
  {
   "attachments": {},
   "cell_type": "markdown",
   "metadata": {},
   "source": [
    "## Load packages and sc plotting settings"
   ]
  },
  {
   "cell_type": "code",
   "execution_count": null,
   "metadata": {},
   "outputs": [],
   "source": [
    "# Load packages\n",
    "import scanpy as sc\n",
    "import matplotlib as mpl\n",
    "import seaborn as sns\n",
    "from matplotlib import pyplot as plt\n",
    "from matplotlib.colors import to_rgba\n",
    "import pandas as pd\n",
    "from copy import copy\n",
    "import numpy as np\n",
    "import sklearn as sk\n",
    "import scprep\n",
    "import phate\n",
    "import scrublet\n",
    "import random\n",
    "import anndata as ad\n",
    "import meld\n",
    "import scipy.stats as stats\n",
    "from matplotlib.colors import to_rgba\n",
    "from pygam import LinearGAM, s\n"
   ]
  },
  {
   "cell_type": "code",
   "execution_count": null,
   "metadata": {
    "tags": []
   },
   "outputs": [],
   "source": [
    "# Setup the global plotting parameters\n",
    "sc.settings.verbosity = 3             # verbosity: errors (0), warnings (1), info (2), hints (3)\n",
    "sc.logging.print_header()\n",
    "sc.set_figure_params(dpi=100, color_map = \"viridis\", frameon=True, transparent=True,\n",
    "                    dpi_save=800, facecolor=\"None\", format=\"pdf\", figsize=[4,4])\n",
    "\n",
    "# Figure output directory\n",
    "sc.settings.figdir = 'figures/Fig_6/'\n",
    "\n",
    "# Set seed for reproducibility\n",
    "np.random.seed(12)"
   ]
  },
  {
   "cell_type": "code",
   "execution_count": null,
   "metadata": {},
   "outputs": [],
   "source": [
    "# Condition colours\n",
    "coculture_cmap = {\n",
    "    'Coculture_1': '#F9CFCE', \n",
    "    'Coculture_2': '#EF9487', \n",
    "    'Coculture_3': '#EB716B', \n",
    "    'PDO_1': '#B2D1AF',\n",
    "    'PDO_2': '#7CC06F',\n",
    "    'PDO_3': '#00A300'\n",
    "}\n",
    "\n",
    "cell_type_cmap = {\n",
    "    'pdo_27_PDO': '#920000',\n",
    "    'pdo_21_PDO': '#5dcc00',\n",
    "    'pdo_21_Fibroblast': '#A954CE',\n",
    "    'pdo_27_Fibroblast': '#412663'\n",
    "}\n",
    "\n",
    "condition_cmap = {\n",
    "    'Coculture': '#EB716B',\n",
    "    'PDO': '#00A300', \n",
    "    'Fibroblast' : '#0C01F5'\n",
    "}\n"
   ]
  },
  {
   "attachments": {},
   "cell_type": "markdown",
   "metadata": {},
   "source": [
    "## Load processed anndata object"
   ]
  },
  {
   "cell_type": "code",
   "execution_count": null,
   "metadata": {},
   "outputs": [],
   "source": [
    "# Import data\n",
    "input_file = '../00_scRNA_seq_preprocessing/merged_filtered_trellis_adata_v4.h5ad'  # h5ad file exported from preprocessing pipeline\n",
    "\n",
    "split_adata = sc.read_h5ad(input_file)\n",
    "\n",
    "# Inspect data shape\n",
    "split_adata"
   ]
  },
  {
   "attachments": {},
   "cell_type": "markdown",
   "metadata": {},
   "source": [
    "## PDO only analysis"
   ]
  },
  {
   "cell_type": "code",
   "execution_count": null,
   "metadata": {},
   "outputs": [],
   "source": [
    "split_adata.obs['pdo_cell_type'] = split_adata.obs['dataset'].astype(str) + '_' + split_adata.obs['cell_type'].astype(str)"
   ]
  },
  {
   "cell_type": "code",
   "execution_count": null,
   "metadata": {},
   "outputs": [],
   "source": [
    "# Extract only PDO\n",
    "pdo_adata =  split_adata[split_adata.obs['cell_type'].isin(['PDO'])]\n",
    "\n",
    "# PCA\n",
    "sc.tl.pca(pdo_adata, n_comps=100, svd_solver='arpack')"
   ]
  },
  {
   "cell_type": "code",
   "execution_count": null,
   "metadata": {},
   "outputs": [],
   "source": [
    "# Insert replicate value\n",
    "pdo_adata.obs['replicate'] = pdo_adata.obs['sample_id'].str[-1]\n",
    "pdo_adata.obs['condition_replicate'] = pdo_adata.obs['condition'].astype(str) + '_' + pdo_adata.obs['replicate'].astype(str)"
   ]
  },
  {
   "attachments": {},
   "cell_type": "markdown",
   "metadata": {},
   "source": [
    "## PDO21 co-culture perturbation analysis"
   ]
  },
  {
   "cell_type": "code",
   "execution_count": null,
   "metadata": {},
   "outputs": [],
   "source": [
    "# Extract only PDO\n",
    "pdo21_adata =  pdo_adata[pdo_adata.obs['dataset'].isin(['pdo_21'])]\n",
    "\n",
    "# Exctract data\n",
    "metadata_21 = pdo21_adata.obs\n",
    "data_21_df = pdo21_adata.to_df()"
   ]
  },
  {
   "cell_type": "code",
   "execution_count": null,
   "metadata": {},
   "outputs": [],
   "source": [
    "# Run Phate on pdo21 only\n",
    "sc.external.tl.phate(pdo21_adata, random_state=12)"
   ]
  },
  {
   "cell_type": "code",
   "execution_count": null,
   "metadata": {},
   "outputs": [],
   "source": [
    "# Figure 6a 1\n",
    "sc.external.pl.phate(pdo21_adata, color=['condition_replicate'],  \n",
    "frameon=False, add_outline=True, palette=coculture_cmap, save=\"Fig_6_A_left_pdo21.pdf\")"
   ]
  },
  {
   "cell_type": "code",
   "execution_count": null,
   "metadata": {},
   "outputs": [],
   "source": [
    "# Run Meld\n",
    "meld_op_21 = meld.MELD()\n",
    "sample_densities_21 = meld_op_21.fit_transform(data_21_df, sample_labels=metadata_21['condition_replicate'])\n",
    "data_phate_21 = pdo21_adata.obsm['X_phate']"
   ]
  },
  {
   "cell_type": "code",
   "execution_count": null,
   "metadata": {},
   "outputs": [],
   "source": [
    "#  Helper function to apply L1 normalization across the densities for each replicate\n",
    "def replicate_normalize_densities(sample_densities, replicate):\n",
    "    # Get the unique replicates\n",
    "    replicates = np.unique(replicate)\n",
    "    sample_likelihoods = sample_densities.copy()\n",
    "    for rep in replicates:\n",
    "        # Select the columns of `sample_densities` for that replicate\n",
    "        curr_cols = sample_densities.columns[[col.endswith(rep) for col in sample_densities.columns]]\n",
    "        curr_densities = sample_densities[curr_cols]\n",
    "        # Apply L1 normalization\n",
    "        sample_likelihoods[curr_cols] = sk.preprocessing.normalize(curr_densities, norm='l1')\n",
    "    return sample_likelihoods"
   ]
  },
  {
   "cell_type": "code",
   "execution_count": null,
   "metadata": {},
   "outputs": [],
   "source": [
    "sample_likelihoods = replicate_normalize_densities(sample_densities_21, metadata_21['replicate'])"
   ]
  },
  {
   "cell_type": "code",
   "execution_count": null,
   "metadata": {},
   "outputs": [],
   "source": [
    "# Create the cross sample embedding \n",
    "fig, axes = plt.subplots(1,2, figsize=(8.7,4))\n",
    "\n",
    "experimental_samples = ['Coculture_1', 'Coculture_2',\t'Coculture_3']\n",
    "\n",
    "scprep.plot.scatter2d(data_phate_21, c=sample_likelihoods[experimental_samples].mean(axis=1), \n",
    "                      cmap=meld.get_meld_cmap(), vmin=0, vmax=1,\n",
    "                      title='Mean', ticks=False, ax=axes[0])\n",
    "\n",
    "scprep.plot.scatter2d(data_phate_21, c=sample_likelihoods[experimental_samples].std(axis=1), vmin=0, \n",
    "                      cmap='inferno', title='St. Dev.', ticks=False, ax=axes[1])\n",
    "\n",
    "fig.tight_layout()"
   ]
  },
  {
   "cell_type": "code",
   "execution_count": null,
   "metadata": {},
   "outputs": [],
   "source": [
    "# Assign the likelhood of peturbation by CAFs to the adata object\n",
    "metadata_21['coculture_likelihood'] = sample_likelihoods[experimental_samples].mean(axis=1).values\n",
    "pdo21_adata.obs['coculture_likelihood'] = sample_likelihoods[experimental_samples].mean(axis=1).values"
   ]
  },
  {
   "cell_type": "code",
   "execution_count": null,
   "metadata": {},
   "outputs": [],
   "source": [
    "pdo21_adata.obs['coculture_likelihood'] = sample_likelihoods[experimental_samples].mean(axis=1).values"
   ]
  },
  {
   "cell_type": "code",
   "execution_count": null,
   "metadata": {},
   "outputs": [],
   "source": [
    "# View the Phate DR with MELD score\n",
    "sc.external.pl.phate(pdo21_adata, color=['coculture_likelihood'],  \n",
    "frameon=False, add_outline=True, title='', vmin=0, vmax=1, color_map=meld.get_meld_cmap(), save=\"Fig6_A_middle_pdo21.pdf\")"
   ]
  },
  {
   "cell_type": "code",
   "execution_count": null,
   "metadata": {},
   "outputs": [],
   "source": [
    "metadata_21 = pdo21_adata.obs\n",
    "\n",
    "# Condition colours\n",
    "coculture_cmap_sort = {\n",
    "     '5': '#EB716B', \n",
    "     '4': '#EF9487', \n",
    "     '3': '#F9CFCE', \n",
    "     '2': '#00A300',\n",
    "     '1': '#7CC06F',\n",
    "     '0': '#B2D1AF'\n",
    "}\n",
    "\n",
    "cluster2order = {\n",
    "     'PDO_1': '0',\n",
    "     'PDO_2': '1',\n",
    "     'PDO_3': '2',\n",
    "     'Coculture_1': '3',\n",
    "     'Coculture_2': '4',\n",
    "     'Coculture_3': '5'\n",
    "}\n",
    "\n",
    "# add a new `.obs` column by mapping between annotations\n",
    "metadata_21['condition_replicate_sort'] = metadata_21['condition_replicate'].map(cluster2order).astype('category')\n",
    "\n",
    "metadata_21['condition_replicate_sort'] = metadata_21['condition_replicate_sort'].cat.reorder_categories(['0', '1', '2', '3', '4', '5'])"
   ]
  },
  {
   "cell_type": "code",
   "execution_count": null,
   "metadata": {},
   "outputs": [],
   "source": [
    "# Plot jitter plots of MELD densities\n",
    "fig, ax = plt.subplots(1, figsize=(10,10))\n",
    "\n",
    "g = scprep.plot.jitter(metadata_21['condition_replicate_sort'], pdo21_adata.obs['coculture_likelihood'], \n",
    "                   c=metadata_21['condition_replicate_sort'], \n",
    "                   cmap=coculture_cmap_sort,\n",
    "                   legend=False, \n",
    "                   plot_means=True, \n",
    "                   means_s=50, \n",
    "                   xlabel=False, \n",
    "                   ylabel='Mean Coculture likelihood',\n",
    "                   ax=ax)\n",
    "\n",
    "ax.set_xticklabels(pd.unique(metadata_21.sort_values('condition_replicate_sort', ascending=True)['condition_replicate']), rotation=90)\n",
    "ax.set_ylim(0,1)\n",
    "\n",
    "fig.tight_layout()\n",
    "\n",
    "plt.savefig(\"figures/Fig_6_A_meld_pdo21_right.pdf\")"
   ]
  },
  {
   "cell_type": "code",
   "execution_count": null,
   "metadata": {},
   "outputs": [],
   "source": [
    "# Leiden clustering on PDO-21 cells for downstream VR landscape analysis\n",
    "sc.pp.neighbors(pdo21_adata, random_state=12, n_pcs=30, n_neighbors=100)\n",
    "sc.tl.leiden(pdo21_adata, resolution = 0.2, random_state=12, key_added=\"leidenr0.2\")"
   ]
  },
  {
   "cell_type": "code",
   "execution_count": null,
   "metadata": {},
   "outputs": [],
   "source": [
    "metadata_21 = pdo21_adata.obs\n",
    "\n",
    "# Bin cells based on MELD score\n",
    "perturbed = np.zeros(len(metadata_21), dtype=str)  # Initialize an array to hold the categorical values\n",
    "\n",
    "perturbed[metadata_21['coculture_likelihood'] > 0.6] = \"2\"\n",
    "perturbed[(metadata_21['coculture_likelihood'] <= 0.6) & (metadata_21['coculture_likelihood'] > 0.4)] = \"1\"\n",
    "perturbed[metadata_21['coculture_likelihood'] <= 0.4] = \"0\"\n",
    "\n",
    "# Assign the categorical values to a new categorical metadata variable\n",
    "pdo21_adata.obs['perturbed'] = perturbed"
   ]
  },
  {
   "cell_type": "code",
   "execution_count": null,
   "metadata": {},
   "outputs": [],
   "source": [
    "# Generate pdo21 specific cell - gene qc values\n",
    "sc.pp.calculate_qc_metrics(pdo21_adata, percent_top=None, log1p=False, use_raw=True, inplace=True)"
   ]
  },
  {
   "cell_type": "code",
   "execution_count": null,
   "metadata": {},
   "outputs": [],
   "source": [
    "# Load proCSC and revCSC gene signatures\n",
    "gene_signatures = pd.read_csv(\"data/CuratedEpithelia_pro_rev_geneSet_sigs.csv\")\n",
    "gene_signatures.groupby(\"ANNOTATION\").count()\n",
    "stem_signatures = gene_signatures"
   ]
  },
  {
   "cell_type": "code",
   "execution_count": null,
   "metadata": {},
   "outputs": [],
   "source": [
    "# WNT and YAP published gene signatures\n",
    "g_WntMORRAL20 = pd.Series([\"Ascl2\", \"Axin2\", \"Lgr5\", \"Sp5\", \"Cachd1\", \"Smoc2\", \"Fam216a\", \n",
    "    \"Lef1\", \"Cyp4x1\", \"Slc12a2\", \"Dpep1\", \"Nkd1\", \"Lrp4\", \"Znrf3\", \"Ptpro\", \n",
    "    \"Apcdd1\", \"Tnfrsf19\", \"Sox2\", \"Ptch1\", \"Tspan5\", \"Myrip\", \"Cdk6\", \"Itga9\", \n",
    "    \"Ppp2r2c\", \"Chil1\", \"Fry\", \"Cxcr4\", \"Slc28a3\", \"Sacs\", \"Has2\", \"Sp8\", \n",
    "    \"Cdca7\", \"Ets2\", \"Sox4\", \"Vsnl1\", \"Cadm1\", \"Slc7a8\", \"Zfp704\", \"Fam43a\", \n",
    "    \"Prox1\", \"Nrxn3\",\"Fgf18\",\"9530003J23Rik\",\"Bambi\",\"Amacr\",\"Lrig1\",\"Nav2\",\n",
    "    \"Kremen1\",\"Kcnj2\",\"Slc16a10\",\"Prss23\",\"Rgmb\",\"Rtkn2\",\"Frem2\",\"Oxgr1\",\n",
    "    \"Abcc4\",\"Mme\",\"Kcnj8\",\"Asb4\"])\n",
    "g_WntHAN20 = pd.Series([\"Axin2\", \"Apcdd1\", \"Nkd1\", \"Tnfrsf19\", \"Smoc2\", \"Cd44\", \"Wnt6\"])\n",
    "g_WntReceptQINCARDOSO23 = pd.Series([\"Fzd1\", \"Fzd2\", \"Fzd3\", \"Fzd4\", \"Fzd5\", \"Fzd6\", \n",
    "    \"Fzd7\", \"Fzd8\", \"Fzd9\", \"Fzd10\", \"Lrp5\", \"Lrp6\", \"Ror1\", \"Ror2\", \"Musk\",\n",
    "    \"Ryk\", \"Ptk7\"])\n",
    "\n",
    "g_YapALVAREZ22 = pd.Series([\"Anxa1\", \"Ccn1\", \"Ccn2\", \"Fjx1\", \"Axl\", \"Ereg\", \"Wwc2\"])\n",
    "g_YapHAN20 = pd.Series([\"Ankrd1\", \"Ccn1\", \"Ccn2\", \"Axl\", \"Msln\", \"Plaur\"])\n",
    "g_YapWANG18 = pd.Series([\"Amotl2\", \"Ankrd1\", \"Igfbp3\", \"F3\", \"Fjx1\", \"Nuak2\", \"Gm49361\",\n",
    "    \"Crim1\", \"Gadd45a\", \"Tgfb2\", \"Ptpn14\", \"Nt5e\", \"Foxf2\", \"Axl\", \"Dock5\",\n",
    "    \"Asap1\", \"Rbms3\", \"Myof\", \"Arhgef17\", \"Ccdc80\"])\n"
   ]
  },
  {
   "cell_type": "code",
   "execution_count": null,
   "metadata": {},
   "outputs": [],
   "source": [
    "sign_signatures = pd.concat(\n",
    "    [g_WntMORRAL20,g_WntHAN20,g_WntReceptQINCARDOSO23,g_YapALVAREZ22,\n",
    "    g_YapHAN20,g_YapWANG18], \n",
    "    keys=[\"g_WntMORRAL20\",\"g_WntHAN20\",\"g_WntReceptQINCARDOSO23\",\"g_YapALVAREZ22\",\n",
    "        \"g_YapHAN20\",\"g_YapWANG18\"]\n",
    "    ).reset_index(level=[0],name=\"GENE\").rename(columns={\"level_0\": \"ORIGIN\"})\n",
    "sign_signatures"
   ]
  },
  {
   "cell_type": "code",
   "execution_count": null,
   "metadata": {},
   "outputs": [],
   "source": [
    "from biomart import BiomartServer\n",
    "\n",
    "mart = BiomartServer(\"http://www.ensembl.org/biomart\").datasets[\"mmusculus_gene_ensembl\"]\n",
    "# mart.show_attributes()\n",
    "# for i in mart.show_attributes_by_page():\n",
    "#     print(i)\n",
    "\n",
    "response = mart.search({\n",
    "    \"filters\": {\n",
    "        \"mgi_symbol\": stem_signatures[\"GENE\"].to_list()+sign_signatures[\"GENE\"].to_list()\n",
    "    },\n",
    "    \"attributes\":[\n",
    "        \"external_gene_name\",\n",
    "        \"hsapiens_homolog_associated_gene_name\"\n",
    "        ]\n",
    "    })\n",
    "\n",
    "# Preserve human uppser casing\n",
    "homology_dict = {}\n",
    "for row in response.iter_lines():\n",
    "    row = row.decode('utf-8').split(\"\\t\")\n",
    "    homology_dict[row[0]] = row[1]\n",
    "\n",
    "homology_dict"
   ]
  },
  {
   "cell_type": "code",
   "execution_count": null,
   "metadata": {},
   "outputs": [],
   "source": [
    "# Filter gene signatures by genes expressed\n",
    "stem_signatures = stem_signatures.replace({\"GENE\":homology_dict}).replace(\"\", np.nan).dropna()"
   ]
  },
  {
   "cell_type": "code",
   "execution_count": null,
   "metadata": {},
   "outputs": [],
   "source": [
    "sign_signatures = sign_signatures.replace({\"GENE\":homology_dict}).replace(\"\", np.nan).dropna()"
   ]
  },
  {
   "cell_type": "code",
   "execution_count": null,
   "metadata": {},
   "outputs": [],
   "source": [
    "# Filter signatures based on expression\n",
    "sign_signatures_filter = sign_signatures[sign_signatures[\"GENE\"].isin(pdo21_adata.var_names[pdo21_adata.var.n_cells_by_counts>320])]"
   ]
  },
  {
   "cell_type": "code",
   "execution_count": null,
   "metadata": {},
   "outputs": [],
   "source": [
    "# Filter signature genes by expression \n",
    "stem_signatures_filter = stem_signatures[stem_signatures['GENE'].isin(pdo21_adata.var_names[pdo21_adata.var.n_cells_by_counts>320])]"
   ]
  },
  {
   "cell_type": "code",
   "execution_count": null,
   "metadata": {},
   "outputs": [],
   "source": [
    "# Load leedham reCSC signature\n",
    "leedham_df = pd.read_csv(\"data/leedham_sig.csv\")\n",
    "\n",
    "# Exctract the gene sig\n",
    "leedham_sig = leedham_df['hsapiens_homolog_associated_gene_name']\n",
    "\n",
    "# Remove the nans\n",
    "leedham_sig = leedham_sig.dropna()"
   ]
  },
  {
   "cell_type": "code",
   "execution_count": null,
   "metadata": {},
   "outputs": [],
   "source": [
    "# Filter based on expression\n",
    "leedham_sig_filter = leedham_sig[leedham_sig.isin(pdo21_adata.var_names[pdo21_adata.var.n_cells_by_counts>320])]"
   ]
  },
  {
   "cell_type": "code",
   "execution_count": null,
   "metadata": {},
   "outputs": [],
   "source": [
    "# Load pelka proCSC and endo signature\n",
    "pelka_sig_df = pd.read_csv(\"data/pelka_sig.csv\")\n",
    "\n",
    "# Filter based on expression\n",
    "proCSC_Pelka21 = pelka_sig_df.loc[pelka_sig_df[\"ANNOTATION\"]==\"pelka21_proSC\",\"GENE\"]\n",
    "proCSC_Pelka21_filter = proCSC_Pelka21[proCSC_Pelka21.isin(pdo21_adata.var_names[pdo21_adata.var.n_cells_by_counts>320])]\n",
    "\n",
    "# Filter based on expression\n",
    "enteroendocrine_Pelka21 = pelka_sig_df.loc[pelka_sig_df[\"ANNOTATION\"]==\"pelka21_enteroendocrine\",\"GENE\"]\n",
    "enteroendocrine_Pelka21_filter = enteroendocrine_Pelka21[enteroendocrine_Pelka21.isin(pdo21_adata.var_names[pdo21_adata.var.n_cells_by_counts>50])]\n"
   ]
  },
  {
   "cell_type": "code",
   "execution_count": null,
   "metadata": {},
   "outputs": [],
   "source": [
    "# Convert to list format for scoring\n",
    "proCSCsign_sig = stem_signatures_filter.loc[stem_signatures_filter[\"ANNOTATION\"]==\"proCSC_sig\",\"GENE\"].to_list()\n",
    "proCSC_Pelka21 = proCSC_Pelka21_filter\n",
    "revCSCsign_sig = stem_signatures_filter.loc[stem_signatures_filter[\"ANNOTATION\"]==\"revCSC_sig\",\"GENE\"].to_list()\n",
    "revCSC_Leedham22 = leedham_sig_filter.to_list()\n",
    "\n",
    "enteroendocrine_Pelka21 = enteroendocrine_Pelka21_filter\n",
    "\n",
    "WntHAN20sign = sign_signatures_filter.loc[sign_signatures_filter[\"ORIGIN\"]==\"g_WntHAN20\",\"GENE\"].to_list()\n",
    "WntMORRAL20sign = sign_signatures_filter.loc[sign_signatures_filter[\"ORIGIN\"]==\"g_WntMORRAL20\",\"GENE\"].to_list()\n",
    "WntReceptQINCARDOSO23sign = sign_signatures_filter.loc[sign_signatures_filter[\"ORIGIN\"]==\"g_WntReceptQINCARDOSO23\",\"GENE\"].to_list()\n",
    "YapALVAREZ22sign = sign_signatures_filter.loc[sign_signatures_filter[\"ORIGIN\"]==\"g_YapALVAREZ22\",\"GENE\"].to_list()\n",
    "YapHAN20sign = sign_signatures_filter.loc[sign_signatures_filter[\"ORIGIN\"]==\"g_YapHAN20\",\"GENE\"].to_list()\n",
    "YapWANG18sign = sign_signatures_filter.loc[sign_signatures_filter[\"ORIGIN\"]==\"g_YapWANG18\",\"GENE\"].to_list()"
   ]
  },
  {
   "cell_type": "code",
   "execution_count": null,
   "metadata": {},
   "outputs": [],
   "source": [
    "# Score genes for gene signatures\n",
    "sc.tl.score_genes(pdo21_adata, gene_list=proCSCsign_sig, ctrl_size=25, score_name=\"proCSCsign_sig\", random_state=12, use_raw=True)\n",
    "sc.tl.score_genes(pdo21_adata, gene_list=proCSC_Pelka21, ctrl_size=25, score_name=\"proCSC_Pelka21_sig\", random_state=12, use_raw=True)\n",
    "sc.tl.score_genes(pdo21_adata, gene_list=revCSCsign_sig, ctrl_size=25, score_name=\"revCSCsign_sig\", random_state=12, use_raw=True)\n",
    "sc.tl.score_genes(pdo21_adata, gene_list=revCSC_Leedham22, ctrl_size=25, score_name=\"revLeedham22sign\", random_state=12, use_raw=True)\n",
    "sc.tl.score_genes(pdo21_adata, gene_list=enteroendocrine_Pelka21, ctrl_size=25, score_name=\"EntPelka21sign\", random_state=12, use_raw=True)\n",
    "sc.tl.score_genes(pdo21_adata, gene_list=WntHAN20sign, ctrl_size=25, score_name=\"WntHAN20sign\", random_state=12, use_raw=True)\n",
    "sc.tl.score_genes(pdo21_adata, gene_list=WntMORRAL20sign, ctrl_size=25, score_name=\"WntMORRAL20sign\", random_state=12, use_raw=True)\n",
    "sc.tl.score_genes(pdo21_adata, gene_list=WntReceptQINCARDOSO23sign, ctrl_size=25, score_name=\"WntReceptQINCARDOSO23sign\", random_state=12, use_raw=True)\n",
    "sc.tl.score_genes(pdo21_adata, gene_list=YapALVAREZ22sign, ctrl_size=25, score_name=\"YapALVAREZ22sign\", random_state=12, use_raw=True)\n",
    "sc.tl.score_genes(pdo21_adata, gene_list=YapHAN20sign, ctrl_size=25, score_name=\"YapHAN20sign\", random_state=12, use_raw=True)\n",
    "sc.tl.score_genes(pdo21_adata, gene_list=YapWANG18sign, ctrl_size=25, score_name=\"YapWANG18sign\", random_state=12, use_raw=True)"
   ]
  },
  {
   "cell_type": "code",
   "execution_count": null,
   "metadata": {},
   "outputs": [],
   "source": [
    "pdo_21_metadata_df = pdo21_adata.obs\n",
    "\n",
    "# Create perturbed_condition\n",
    "pdo_21_metadata_df[\"replicate_perturbed\"] = pdo_21_metadata_df[\"perturbed\"].astype(str) + \"_\" + pdo_21_metadata_df[\"replicate\"].astype(str) "
   ]
  },
  {
   "cell_type": "code",
   "execution_count": null,
   "metadata": {},
   "outputs": [],
   "source": [
    "cmap_mr = sns.diverging_palette(240, 14, n=99)\n",
    "\n",
    "sc.pl.matrixplot(pdo21_adata, ['proCSCsign_sig', 'proCSC_Pelka21_sig', 'WntReceptQINCARDOSO23sign', 'WntHAN20sign', 'WntMORRAL20sign', 'revCSCsign_sig', 'revLeedham22sign', 'YapWANG18sign', 'YapALVAREZ22sign', 'YapHAN20sign'],\n",
    " groupby='perturbed', dendrogram=False, standard_scale='var', cmap='coolwarm', save=\"Fig6_E_heatmap\")"
   ]
  },
  {
   "cell_type": "code",
   "execution_count": null,
   "metadata": {},
   "outputs": [],
   "source": [
    "# Generate the conditon replicate\n",
    "# Extract means\n",
    "mean_values = pdo_21_metadata_df.groupby(['condition_replicate'])['revCSCsign_sig'].mean()\n",
    "\n",
    "# Create a DataFrame from the mean_values array\n",
    "means_df = pd.DataFrame(mean_values).reset_index()\n",
    "\n",
    "# Define the desired order of condition_replicate values\n",
    "order = ['PDO_1', 'PDO_2', 'PDO_3', 'Coculture_1', 'Coculture_2', 'Coculture_3']\n",
    "\n",
    "means_df['condition_replicate'] = pd.Categorical(means_df['condition_replicate'], categories=order, ordered=True)\n",
    "means_df.sort_values(by='condition_replicate', inplace=True)\n",
    "\n",
    "# Reset the index of the DataFrame\n",
    "means_df.reset_index(drop=True, inplace=True)\n",
    "\n",
    "means_df['condition'] = ['PDO', 'PDO', 'PDO', 'Coculture', 'Coculture', 'Coculture']\n",
    "\n",
    "# Create a violin plot\n",
    "plt.figure(figsize=(8, 6))\n",
    "\n",
    "# Create violinplot and boxplot using seaborn\n",
    "plt.figure(figsize=(3, 6))\n",
    "sns.violinplot(data=pdo_21_metadata_df, x='condition_replicate', y='revCSCsign_sig', inner=None, color='white', alpha=0.3, linewidth=1.5, palette=coculture_cmap,\n",
    "               order=order)\n",
    "\n",
    "plt.scatter(x=range(len(mean_values)), y=means_df['revCSCsign_sig'],c=\"k\",s=5)\n",
    "\n",
    "# Label axes\n",
    "plt.xticks(rotation=90)\n",
    "plt.xlabel('Condition')\n",
    "plt.ylabel('revCSC_sig')\n",
    "plt.title('revCSC_sig score by Condition')\n",
    "\n",
    "# Remove horizontal gridlines\n",
    "plt.gca().yaxis.grid(False)\n",
    "\n",
    "# save\n",
    "plt.savefig(\"figures/Fig6_D_right.pdf\", bbox_inches='tight')\n"
   ]
  },
  {
   "cell_type": "code",
   "execution_count": null,
   "metadata": {},
   "outputs": [],
   "source": [
    "# Generate the conditon replicate\n",
    "# Extract means\n",
    "mean_values = pdo_21_metadata_df.groupby(['condition_replicate'])['proCSCsign_sig'].mean()\n",
    "\n",
    "# Create a DataFrame from the mean_values array\n",
    "means_df = pd.DataFrame(mean_values).reset_index()\n",
    "\n",
    "# Define the desired order of condition_replicate values\n",
    "order = ['PDO_1', 'PDO_2', 'PDO_3', 'Coculture_1', 'Coculture_2', 'Coculture_3']\n",
    "\n",
    "means_df['condition_replicate'] = pd.Categorical(means_df['condition_replicate'], categories=order, ordered=True)\n",
    "means_df.sort_values(by='condition_replicate', inplace=True)\n",
    "\n",
    "# Reset the index of the DataFrame\n",
    "means_df.reset_index(drop=True, inplace=True)\n",
    "\n",
    "means_df['condition'] = ['PDO', 'PDO', 'PDO', 'Coculture', 'Coculture', 'Coculture']\n",
    "\n",
    "# Create a violin plot\n",
    "plt.figure(figsize=(8, 6))\n",
    "\n",
    "# Create violinplot and boxplot using seaborn\n",
    "plt.figure(figsize=(3, 6))\n",
    "sns.violinplot(data=pdo_21_metadata_df, x='condition_replicate', y='proCSCsign_sig', inner=None, color='white', alpha=0.3, linewidth=1.5, palette=coculture_cmap,\n",
    "               order=order)\n",
    "\n",
    "plt.scatter(x=range(len(mean_values)), y=means_df['proCSCsign_sig'],c=\"k\",s=5)\n",
    "\n",
    "# Label axes\n",
    "plt.xticks(rotation=90)\n",
    "plt.xlabel('Meld designation')\n",
    "plt.ylabel('proCSCsign_sig')\n",
    "plt.title('proCSCsign_sig score by MELD')\n",
    "\n",
    "# Remove horizontal gridlines\n",
    "plt.gca().yaxis.grid(False)\n",
    "\n",
    "# save\n",
    "plt.savefig(\"figures/Fig6_C_right.pdf.pdf\", bbox_inches='tight')\n"
   ]
  },
  {
   "cell_type": "code",
   "execution_count": null,
   "metadata": {},
   "outputs": [],
   "source": [
    "# revCSC\n",
    "# Generate labels\n",
    "labels = pdo21_adata.obs['condition_replicate']\n",
    "\n",
    "# Load or create your data as a Pandas DataFrame (replace with your actual data)\n",
    "data = pd.DataFrame({'X': pdo21_adata.obs['coculture_likelihood'], \n",
    "                     'Y': pdo21_adata.obs['revCSCsign_sig'],\n",
    "                     'replicate': pdo21_adata.obs['replicate']\n",
    "})\n",
    "\n",
    "\n",
    "# Create a list to store the GAM models for each replicate\n",
    "gam_models = []\n",
    "\n",
    "# Plotting settings\n",
    "mean_color = 'black'  # Color for the mean line\n",
    "\n",
    "# Sort the data based on 'X' values\n",
    "sorted_data = data.sort_values(by='X')\n",
    "\n",
    "# Initialize plot\n",
    "mpl.style.use('default')\n",
    "fig, ax = plt.subplots()\n",
    "ax.scatter(data['X'], data['Y'], s=0.25, c=labels.map(coculture_cmap))\n",
    "\n",
    "# Iterate over the unique categories in 'replicate'\n",
    "for i, replicate in enumerate(sorted_data['replicate'].unique()):\n",
    "    # Subset the data for the current replicate\n",
    "    subset_data = sorted_data[sorted_data['replicate'] == replicate]\n",
    "\n",
    "    # Extract the X and Y values for the current replicate\n",
    "    X = subset_data['X'].values.reshape(-1, 1)\n",
    "    Y = subset_data['Y'].values\n",
    "\n",
    "    # Create the GAM model for the current replicate\n",
    "    gam = LinearGAM(s(0, n_splines=10))  # Cubic spline with n10\n",
    "    gam.fit(X, Y)\n",
    "\n",
    "    # Store the GAM model for the current replicate\n",
    "    gam_models.append(gam)\n",
    "\n",
    "# Compute and plot the mean line\n",
    "sample_df = pd.DataFrame(data=[gam.predict(X) for gam in gam_models]).T\n",
    "\n",
    "# Calculate the mean\n",
    "sample_df['mean'] = sample_df.iloc[:, 0:3].mean(axis=1)\n",
    "# Calculate the standard deviation\n",
    "sample_df['std'] = sample_df.iloc[:, 0:3].std(axis=1)\n",
    "# Calculate a confidence interval as well.\n",
    "sample_df['ci'] = 1.96 * sample_df['std'] / np.sqrt(3)\n",
    "sample_df['ci_lower'] = sample_df['mean'] - sample_df['ci']\n",
    "sample_df['ci_upper'] = sample_df['mean'] + sample_df['ci']\n",
    "\n",
    "plt.plot(X, sample_df['mean'], color=mean_color, linewidth=1.75, label='Mean')\n",
    "plt.plot(X, sample_df['ci_upper'], color=mean_color, linestyle=\"dotted\", linewidth=1.5, label='0.95 ci upper')\n",
    "plt.plot(X, sample_df['ci_lower'], color=mean_color, linestyle=\"dotted\", linewidth=1.5, label='0.95 ci lower')\n",
    "\n",
    "# Customize the plot\n",
    "plt.legend(loc='center left', bbox_to_anchor=(1, 0.5))\n",
    "plt.xlabel('X')\n",
    "plt.ylabel('Y')\n",
    "plt.title('GAM Lines for RevCSC_SIG score')\n",
    "\n",
    "plt.savefig(\"figures/Fig6_D_left_GAM_revCSC.pdf\", bbox_inches=\"tight\")\n",
    "\n",
    "plt.show()"
   ]
  },
  {
   "cell_type": "code",
   "execution_count": null,
   "metadata": {},
   "outputs": [],
   "source": [
    "# proCSC signature\n",
    "# Generate labels\n",
    "labels = pdo21_adata.obs['condition_replicate']\n",
    "\n",
    "# Load or create your data as a Pandas DataFrame (replace with your actual data)\n",
    "data = pd.DataFrame({'X': pdo21_adata.obs['coculture_likelihood'], \n",
    "                     'Y': pdo21_adata.obs['proCSCsign_sig'],\n",
    "                     'replicate': pdo21_adata.obs['replicate']\n",
    "})\n",
    "\n",
    "\n",
    "# Create a list to store the GAM models for each replicate\n",
    "gam_models = []\n",
    "\n",
    "# Plotting settings\n",
    "mean_color = 'black'  # Color for the mean line\n",
    "\n",
    "# Sort the data based on 'X' values\n",
    "sorted_data = data.sort_values(by='X')\n",
    "\n",
    "# Begin plot\n",
    "mpl.style.use('default')\n",
    "fig, ax = plt.subplots()\n",
    "ax.scatter(data['X'], data['Y'], s=0.25, c=labels.map(coculture_cmap))\n",
    "\n",
    "# Iterate over the unique categories in 'replicate'\n",
    "for i, replicate in enumerate(sorted_data['replicate'].unique()):\n",
    "    # Subset the data for the current replicate\n",
    "    subset_data = sorted_data[sorted_data['replicate'] == replicate]\n",
    "\n",
    "    # Extract the X and Y values for the current replicate\n",
    "    X = subset_data['X'].values.reshape(-1, 1)\n",
    "    Y = subset_data['Y'].values\n",
    "\n",
    "    # Create the GAM model for the current replicate\n",
    "    gam = LinearGAM(s(0, n_splines=10))  # Cubic spline with n10\n",
    "    gam.fit(X, Y)\n",
    "\n",
    "    # Store the GAM model for the current replicate\n",
    "    gam_models.append(gam)\n",
    "\n",
    "# Compute and plot the mean line\n",
    "sample_df = pd.DataFrame(data=[gam.predict(X) for gam in gam_models]).T\n",
    "\n",
    "# Calculate the mean\n",
    "sample_df['mean'] = sample_df.iloc[:, 0:3].mean(axis=1)\n",
    "# Calculate the standard deviation\n",
    "sample_df['std'] = sample_df.iloc[:, 0:3].std(axis=1)\n",
    "# Calculate a confidence interval as well.\n",
    "sample_df['ci'] = 1.96 * sample_df['std'] / np.sqrt(3)\n",
    "sample_df['ci_lower'] = sample_df['mean'] - sample_df['ci']\n",
    "sample_df['ci_upper'] = sample_df['mean'] + sample_df['ci']\n",
    "\n",
    "plt.plot(X, sample_df['mean'], color=mean_color, linewidth=1.75, label='Mean')\n",
    "plt.plot(X, sample_df['ci_upper'], color=mean_color, linestyle=\"dotted\", linewidth=1.5, label='0.95 ci upper')\n",
    "plt.plot(X, sample_df['ci_lower'], color=mean_color, linestyle=\"dotted\", linewidth=1.5, label='0.95 ci lower')\n",
    "# Customize the plot\n",
    "plt.legend(loc='center left', bbox_to_anchor=(1, 0.5))\n",
    "plt.xlabel('X')\n",
    "plt.ylabel('Y')\n",
    "plt.title('GAM Lines for proCSC_SIG score')\n",
    "\n",
    "plt.savefig(\"figures/Fig6_E_left_GAM_proCSC.pdf\", bbox_inches=\"tight\")\n",
    "\n",
    "plt.show()"
   ]
  },
  {
   "cell_type": "code",
   "execution_count": null,
   "metadata": {},
   "outputs": [],
   "source": [
    "# Pelka entero signature\n",
    "# Generate labels\n",
    "labels = pdo21_adata.obs['condition_replicate']\n",
    "\n",
    "# Load or create your data as a Pandas DataFrame (replace with your actual data)\n",
    "data = pd.DataFrame({'X': pdo21_adata.obs['coculture_likelihood'], \n",
    "                     'Y': pdo21_adata.obs['EntPelka21sign'],\n",
    "                     'replicate': pdo21_adata.obs['replicate']\n",
    "})\n",
    "\n",
    "\n",
    "# Create a list to store the GAM models for each replicate\n",
    "gam_models = []\n",
    "\n",
    "# Plotting settings\n",
    "mean_color = 'black'  # Color for the mean line\n",
    "\n",
    "# Sort the data based on 'X' values\n",
    "sorted_data = data.sort_values(by='X')\n",
    "\n",
    "# Begin plot\n",
    "mpl.style.use('default')\n",
    "fig, ax = plt.subplots()\n",
    "ax.scatter(data['X'], data['Y'], s=0.25, c=labels.map(coculture_cmap))\n",
    "\n",
    "# Iterate over the unique categories in 'replicate'\n",
    "for i, replicate in enumerate(sorted_data['replicate'].unique()):\n",
    "    # Subset the data for the current replicate\n",
    "    subset_data = sorted_data[sorted_data['replicate'] == replicate]\n",
    "\n",
    "    # Extract the X and Y values for the current replicate\n",
    "    X = subset_data['X'].values.reshape(-1, 1)\n",
    "    Y = subset_data['Y'].values\n",
    "\n",
    "    # Create the GAM model for the current replicate\n",
    "    gam = LinearGAM(s(0, n_splines=10))  # Cubic spline with 500 equally sized bins for column 0 (X)\n",
    "    gam.fit(X, Y)\n",
    "\n",
    "    # Store the GAM model for the current replicate\n",
    "    gam_models.append(gam)\n",
    "\n",
    "# Compute and plot the mean line\n",
    "sample_df = pd.DataFrame(data=[gam.predict(X) for gam in gam_models]).T\n",
    "\n",
    "# Calculate the mean\n",
    "sample_df['mean'] = sample_df.iloc[:, 0:3].mean(axis=1)\n",
    "# Calculate the standard deviation\n",
    "sample_df['std'] = sample_df.iloc[:, 0:3].std(axis=1)\n",
    "# Calculate a confidence interval as well.\n",
    "sample_df['ci'] = 1.96 * sample_df['std'] / np.sqrt(3)\n",
    "sample_df['ci_lower'] = sample_df['mean'] - sample_df['ci']\n",
    "sample_df['ci_upper'] = sample_df['mean'] + sample_df['ci']\n",
    "\n",
    "plt.plot(X, sample_df['mean'], color=mean_color, linewidth=1.75, label='Mean')\n",
    "plt.plot(X, sample_df['ci_upper'], color=mean_color, linestyle=\"dotted\", linewidth=1.5, label='0.95 ci upper')\n",
    "plt.plot(X, sample_df['ci_lower'], color=mean_color, linestyle=\"dotted\", linewidth=1.5, label='0.95 ci lower')\n",
    "# Customize the plot\n",
    "plt.legend(loc='center left', bbox_to_anchor=(1, 0.5))\n",
    "plt.xlabel('MELD Likelehood')\n",
    "plt.ylabel('Pelka Entero score')\n",
    "plt.title('GAM Lines for Pelka21 DEG entero score')\n",
    "\n",
    "plt.savefig(\"figures/FigS6_E_enteroendocrine.pdf\", bbox_inches=\"tight\")\n",
    "\n",
    "plt.show()"
   ]
  },
  {
   "cell_type": "code",
   "execution_count": null,
   "metadata": {},
   "outputs": [],
   "source": [
    "# Write anndata object to file\n",
    "pdo21_adata.write_h5ad(filename = 'pdo21_epi_adata_v4.h5ad')"
   ]
  },
  {
   "cell_type": "markdown",
   "metadata": {},
   "source": [
    "## PDO27 co-culture perturbation analysis"
   ]
  },
  {
   "cell_type": "code",
   "execution_count": null,
   "metadata": {},
   "outputs": [],
   "source": [
    "# Extract only PDO-27 from PDO epithelial data\n",
    "pdo27_adata =  pdo_adata[pdo_adata.obs['dataset'].isin(['pdo_27'])]\n",
    "\n",
    "# Extract data\n",
    "metadata_27 = pdo27_adata.obs\n",
    "data_27_df = pdo27_adata.to_df()"
   ]
  },
  {
   "cell_type": "code",
   "execution_count": null,
   "metadata": {},
   "outputs": [],
   "source": [
    "# Reset sc plotting settings\n",
    "sc.set_figure_params(dpi=100, color_map = \"viridis\", frameon=True, transparent=True,\n",
    "                    dpi_save=800, facecolor=\"None\", format=\"pdf\", figsize=[4,4])"
   ]
  },
  {
   "cell_type": "code",
   "execution_count": null,
   "metadata": {},
   "outputs": [],
   "source": [
    "# Run phate dr\n",
    "sc.external.tl.phate(pdo27_adata, t=7, random_state=12)"
   ]
  },
  {
   "cell_type": "code",
   "execution_count": null,
   "metadata": {},
   "outputs": [],
   "source": [
    "# View the RNA phate\n",
    "sc.external.pl.phate(pdo27_adata, color=['condition_replicate'],  \n",
    "frameon=False, add_outline=True, title='', palette=coculture_cmap, save=\"Fig6_B_left_pdo27.pdf\")"
   ]
  },
  {
   "cell_type": "code",
   "execution_count": null,
   "metadata": {},
   "outputs": [],
   "source": [
    "# Meld\n",
    "meld_op_27 = meld.MELD()\n",
    "sample_densities_27 = meld_op_27.fit_transform(data_27_df, sample_labels=metadata_27['condition_replicate'])"
   ]
  },
  {
   "cell_type": "code",
   "execution_count": null,
   "metadata": {},
   "outputs": [],
   "source": [
    "data_phate_27 = pdo27_adata.obsm['X_phate']\n",
    "sample_likelihoods_27 = replicate_normalize_densities(sample_densities_27, metadata_27['replicate'])"
   ]
  },
  {
   "cell_type": "code",
   "execution_count": null,
   "metadata": {},
   "outputs": [],
   "source": [
    "# Create the mean phate dr embedding \n",
    "fig, axes = plt.subplots(1,2, figsize=(8.7,4))\n",
    "\n",
    "experimental_samples = ['Coculture_1', 'Coculture_2',\t'Coculture_3']\n",
    "\n",
    "scprep.plot.scatter2d(data_phate_27, c=sample_likelihoods_27[experimental_samples].mean(axis=1), \n",
    "                      cmap=meld.get_meld_cmap(), vmin=0, vmax=1,\n",
    "                      title='Mean', ticks=False, ax=axes[0])\n",
    "\n",
    "scprep.plot.scatter2d(data_phate_27, c=sample_likelihoods_27[experimental_samples].std(axis=1), vmin=0, \n",
    "                      cmap='inferno', title='St. Dev.', ticks=False, ax=axes[1])\n",
    "\n",
    "fig.tight_layout()"
   ]
  },
  {
   "cell_type": "code",
   "execution_count": null,
   "metadata": {},
   "outputs": [],
   "source": [
    "# Assign the likelhood of coculture peturbation\n",
    "pdo27_adata.obs['coculture_likelihood'] = sample_likelihoods_27[experimental_samples].mean(axis=1).values\n",
    "metadata_27['Coculture_likelihood'] = sample_likelihoods_27[experimental_samples].mean(axis=1).values"
   ]
  },
  {
   "cell_type": "code",
   "execution_count": null,
   "metadata": {},
   "outputs": [],
   "source": [
    "# RNA phate with MELD scores\n",
    "sc.external.pl.phate(pdo27_adata, color=['coculture_likelihood'],  \n",
    "frameon=False, add_outline=True, vmin=0, vmax=1, title='', color_map=meld.get_meld_cmap(), save=\"Fig6_B_middle_pdo27\")"
   ]
  },
  {
   "cell_type": "code",
   "execution_count": null,
   "metadata": {},
   "outputs": [],
   "source": [
    "metadata_27 = pdo27_adata.obs\n",
    "metadata_27['condition_replicate_sort'] = metadata_27['condition_replicate'].map(cluster2order).astype('category')\n",
    "metadata_27['condition_replicate_sort'] = metadata_27['condition_replicate_sort'].cat.reorder_categories(['0', '1', '2', '3', '4', '5'])"
   ]
  },
  {
   "cell_type": "code",
   "execution_count": null,
   "metadata": {},
   "outputs": [],
   "source": [
    "fig, ax = plt.subplots(1, figsize=(10,10))\n",
    "\n",
    "g = scprep.plot.jitter(metadata_27['condition_replicate_sort'], pdo27_adata.obs['coculture_likelihood'], \n",
    "                   c=metadata_27['condition_replicate_sort'], \n",
    "                   cmap=coculture_cmap_sort,\n",
    "                   legend=False, \n",
    "                   plot_means=True, \n",
    "                   means_s=50, \n",
    "                   xlabel=False, \n",
    "                   ylabel='Mean Coculture likelihood',\n",
    "                   ax=ax)\n",
    "\n",
    "ax.set_xticklabels(pd.unique(metadata_27.sort_values('condition_replicate_sort', ascending=True)['condition_replicate']), rotation=90)\n",
    "ax.set_ylim(0,1)\n",
    "\n",
    "fig.tight_layout()\n",
    "\n",
    "plt.savefig(\"figures/Fig6_B_right_pdo27.pdf\")"
   ]
  },
  {
   "cell_type": "code",
   "execution_count": null,
   "metadata": {},
   "outputs": [],
   "source": [
    "# Score genes for gene signatures\n",
    "sc.tl.score_genes(pdo27_adata, gene_list=proCSCsign_sig,  ctrl_size=25, score_name=\"proCSCsign_sig\", random_state=12, use_raw=True)\n",
    "sc.tl.score_genes(pdo27_adata, gene_list=proCSC_Pelka21,  ctrl_size=25, score_name=\"proCSC_Pelka21_sig\", random_state=12, use_raw=True)\n",
    "sc.tl.score_genes(pdo27_adata, gene_list=revCSCsign_sig,  ctrl_size=25, score_name=\"revCSCsign_sig\", random_state=12, use_raw=True)\n",
    "sc.tl.score_genes(pdo27_adata, gene_list=revCSC_Leedham22,  ctrl_size=25, score_name=\"revLeedham22sign\", random_state=12, use_raw=True)\n",
    "sc.tl.score_genes(pdo27_adata, gene_list=enteroendocrine_Pelka21,  ctrl_size=25, score_name=\"EntPelka21sign\", random_state=12, use_raw=True)\n",
    "sc.tl.score_genes(pdo27_adata, gene_list=WntHAN20sign,  ctrl_size=25, score_name=\"WntHAN20sign\", random_state=12, use_raw=True)\n",
    "sc.tl.score_genes(pdo27_adata, gene_list=WntMORRAL20sign,  ctrl_size=25, score_name=\"WntMORRAL20sign\", random_state=12, use_raw=True)\n",
    "sc.tl.score_genes(pdo27_adata, gene_list=WntReceptQINCARDOSO23sign,  ctrl_size=25, score_name=\"WntReceptQINCARDOSO23sign\", random_state=12, use_raw=True)\n",
    "sc.tl.score_genes(pdo27_adata, gene_list=YapALVAREZ22sign,  ctrl_size=25, score_name=\"YapALVAREZ22sign\", random_state=12, use_raw=True)\n",
    "sc.tl.score_genes(pdo27_adata, gene_list=YapHAN20sign,  ctrl_size=25, score_name=\"YapHAN20sign\", random_state=12, use_raw=True)\n",
    "sc.tl.score_genes(pdo27_adata, gene_list=YapWANG18sign,  ctrl_size=25, score_name=\"YapWANG18sign\", random_state=12, use_raw=True)"
   ]
  },
  {
   "cell_type": "code",
   "execution_count": null,
   "metadata": {},
   "outputs": [],
   "source": [
    "# Generate violin plots\n",
    "mean_values = metadata_27.groupby(['condition_replicate'])['revCSCsign_sig'].mean()\n",
    "\n",
    "# Create a DataFrame from the mean_values array\n",
    "means_df = pd.DataFrame(mean_values).reset_index()\n",
    "\n",
    "# Define the desired order of condition_replicate values\n",
    "order = ['PDO_1', 'PDO_2', 'PDO_3', 'Coculture_1', 'Coculture_2', 'Coculture_3']\n",
    "\n",
    "means_df['condition_replicate'] = pd.Categorical(means_df['condition_replicate'], categories=order, ordered=True)\n",
    "means_df.sort_values(by='condition_replicate', inplace=True)\n",
    "\n",
    "# Reset the index of the DataFrame\n",
    "means_df.reset_index(drop=True, inplace=True)\n",
    "\n",
    "means_df['condition'] = ['PDO', 'PDO', 'PDO', 'Coculture', 'Coculture', 'Coculture']\n",
    "\n",
    "# Create a violin plot\n",
    "plt.figure(figsize=(8, 6))\n",
    "\n",
    "# Create violinplot and boxplot using seaborn\n",
    "plt.figure(figsize=(3, 6))\n",
    "sns.violinplot(data=metadata_27, x='condition_replicate', y='revCSCsign_sig', inner=None, color='white', alpha=0.3, linewidth=1.5, palette=coculture_cmap,\n",
    "               order=order)\n",
    "\n",
    "plt.scatter(x=range(len(mean_values)), y=means_df['revCSCsign_sig'],c=\"k\",s=5)\n",
    "\n",
    "# Label axes\n",
    "plt.xticks(rotation=90)\n",
    "plt.xlabel('Condition')\n",
    "plt.ylabel('revCSC_sig')\n",
    "plt.title('revCSC_CSC score by Condition')\n",
    "\n",
    "# Remove horizontal gridlines\n",
    "plt.gca().yaxis.grid(False)\n",
    "\n",
    "# save\n",
    "plt.savefig(\"figures/Fig_S6_H.pdf\", bbox_inches='tight')"
   ]
  },
  {
   "cell_type": "code",
   "execution_count": null,
   "metadata": {},
   "outputs": [],
   "source": [
    "# Generate violin plots\n",
    "mean_values = metadata_27.groupby(['condition_replicate'])['proCSCsign_sig'].mean()\n",
    "\n",
    "# Create a DataFrame from the mean_values array\n",
    "means_df = pd.DataFrame(mean_values).reset_index()\n",
    "\n",
    "# Define the desired order of condition_replicate values\n",
    "order = ['PDO_1', 'PDO_2', 'PDO_3', 'Coculture_1', 'Coculture_2', 'Coculture_3']\n",
    "\n",
    "means_df['condition_replicate'] = pd.Categorical(means_df['condition_replicate'], categories=order, ordered=True)\n",
    "means_df.sort_values(by='condition_replicate', inplace=True)\n",
    "\n",
    "# Reset the index of the DataFrame\n",
    "means_df.reset_index(drop=True, inplace=True)\n",
    "\n",
    "means_df['condition'] = ['PDO', 'PDO', 'PDO', 'Coculture', 'Coculture', 'Coculture']\n",
    "\n",
    "# Create a violin plot\n",
    "plt.figure(figsize=(8, 6))\n",
    "\n",
    "# Create violinplot and boxplot using seaborn\n",
    "plt.figure(figsize=(3, 6))\n",
    "sns.violinplot(data=metadata_27, x='condition_replicate', y='proCSCsign_sig', inner=None, color='white', alpha=0.3, linewidth=1.5, palette=coculture_cmap,\n",
    "               order=order)\n",
    "\n",
    "plt.scatter(x=range(len(mean_values)), y=means_df['proCSCsign_sig'],c=\"k\",s=5)\n",
    "\n",
    "# Label axes\n",
    "plt.xticks(rotation=90)\n",
    "plt.xlabel('Condition')\n",
    "plt.ylabel('proCSCsign_sig')\n",
    "plt.title('proCSCsign_sig score by Condition')\n",
    "\n",
    "# Remove horizontal gridlines\n",
    "plt.gca().yaxis.grid(False)\n",
    "\n",
    "# save\n",
    "plt.savefig(\"figures/Fig_S6_H.pdf\", bbox_inches='tight')"
   ]
  },
  {
   "cell_type": "code",
   "execution_count": null,
   "metadata": {},
   "outputs": [],
   "source": [
    "# Write anndata object to file\n",
    "pdo27_adata.write_h5ad(filename = 'pdo27_epi_adata_v4.h5ad')"
   ]
  }
 ],
 "metadata": {
  "kernelspec": {
   "display_name": "scanpy_v1",
   "language": "python",
   "name": "python3"
  },
  "language_info": {
   "codemirror_mode": {
    "name": "ipython",
    "version": 3
   },
   "file_extension": ".py",
   "mimetype": "text/x-python",
   "name": "python",
   "nbconvert_exporter": "python",
   "pygments_lexer": "ipython3",
   "version": "3.10.11"
  },
  "vscode": {
   "interpreter": {
    "hash": "3a89b950eb47d00185ca4cabfdcf398a7318f3a27f9b73dc976580ca743d59d8"
   }
  }
 },
 "nbformat": 4,
 "nbformat_minor": 4
}
