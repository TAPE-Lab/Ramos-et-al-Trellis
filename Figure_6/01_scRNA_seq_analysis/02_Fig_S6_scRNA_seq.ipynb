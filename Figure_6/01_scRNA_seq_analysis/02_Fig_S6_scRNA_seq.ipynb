{
 "cells": [
  {
   "attachments": {},
   "cell_type": "markdown",
   "metadata": {
    "tags": []
   },
   "source": [
    "# Figure SF6 SPLiT-seq figure generation\n",
    "\n",
    "This notebook generates figure panels found in Supp F6. Input anndata objects for the notebook can be found at this zenodo link: https://zenodo.org/records/8177571"
   ]
  },
  {
   "attachments": {},
   "cell_type": "markdown",
   "metadata": {},
   "source": [
    "## Load packages and plotting settings"
   ]
  },
  {
   "cell_type": "code",
   "execution_count": null,
   "metadata": {},
   "outputs": [],
   "source": [
    "# Load packages\n",
    "import scanpy as sc\n",
    "import matplotlib as mpl\n",
    "import seaborn as sns\n",
    "from matplotlib import pyplot as plt\n",
    "from matplotlib.colors import to_rgba\n",
    "import pandas as pd\n",
    "from copy import copy\n",
    "import numpy as np\n",
    "import sklearn as sk\n",
    "import scprep\n",
    "import phate\n",
    "import random\n",
    "import anndata as ad\n",
    "import meld\n",
    "import scipy.stats as stats\n",
    "from matplotlib.colors import to_rgba"
   ]
  },
  {
   "cell_type": "code",
   "execution_count": null,
   "metadata": {
    "tags": []
   },
   "outputs": [],
   "source": [
    "# Setup the global plotting parameters\n",
    "sc.settings.verbosity = 3             # verbosity: errors (0), warnings (1), info (2), hints (3)\n",
    "sc.logging.print_header()\n",
    "sc.set_figure_params(dpi=100, color_map = \"viridis\", frameon=True, transparent=True,\n",
    "                    dpi_save=800, facecolor=\"None\", format=\"pdf\", figsize=[4,4])\n",
    "\n",
    "# Figure output directory\n",
    "sc.settings.figdir = 'figures/Fig_S6/'\n",
    "\n",
    "# Set seed for reproducibility\n",
    "np.random.seed(12)"
   ]
  },
  {
   "attachments": {},
   "cell_type": "markdown",
   "metadata": {},
   "source": [
    "## Load all cell types anndata object"
   ]
  },
  {
   "cell_type": "code",
   "execution_count": null,
   "metadata": {},
   "outputs": [],
   "source": [
    "# Import data\n",
    "input_file = '../00_scRNA_seq_preprocessing/merged_filtered_trellis_adata_v4.h5ad'  # h5ad file exported from preprocessing pipeline\n",
    "\n",
    "split_adata = sc.read_h5ad(input_file)\n",
    "\n",
    "# Inspect data shape\n",
    "split_adata"
   ]
  },
  {
   "cell_type": "code",
   "execution_count": null,
   "metadata": {},
   "outputs": [],
   "source": [
    "# Condition colours\n",
    "coculture_cmap = {\n",
    "    'Coculture_1': '#F9CFCE', \n",
    "    'Coculture_2': '#EF9487', \n",
    "    'Coculture_3': '#EB716B', \n",
    "    'PDO_1': '#B2D1AF',\n",
    "    'PDO_2': '#7CC06F',\n",
    "    'PDO_3': '#00A300'\n",
    "}\n",
    "\n",
    "cell_type_cmap = {\n",
    "    'pdo_27_PDO': '#920000',\n",
    "    'pdo_21_PDO': '#5dcc00',\n",
    "    'pdo_21_Fibroblast': '#A954CE',\n",
    "    'pdo_27_Fibroblast': '#412663'\n",
    "}\n",
    "\n",
    "condition_cmap = {\n",
    "    'Coculture': '#EB716B',\n",
    "    'PDO': '#00A300', \n",
    "    'Fibroblast' : '#0C01F5'\n",
    "}\n"
   ]
  },
  {
   "cell_type": "markdown",
   "metadata": {},
   "source": [
    "## SF6 Figure generation"
   ]
  },
  {
   "cell_type": "code",
   "execution_count": null,
   "metadata": {},
   "outputs": [],
   "source": [
    "# Violin plot of genes per cell by sample and replicate\n",
    "sc.pl.violin(split_adata, ['n_genes_by_counts'], stripplot=False,\n",
    "             multi_panel=True, groupby='pdo_sample_id', \n",
    "             rotation=90, save=\"_Fig_S6_C.png\")"
   ]
  },
  {
   "cell_type": "code",
   "execution_count": null,
   "metadata": {},
   "outputs": [],
   "source": [
    "split_adata.obs['pdo_cell_type'] = split_adata.obs['dataset'].astype(str) + '_' + split_adata.obs['cell_type'].astype(str)"
   ]
  },
  {
   "cell_type": "code",
   "execution_count": null,
   "metadata": {},
   "outputs": [],
   "source": [
    "# Plot global Phate DR by dataset and cell-type\n",
    "sc.external.pl.phate(split_adata, color=['pdo_cell_type'],  \n",
    "frameon=False, add_outline=True, title='', palette=cell_type_cmap, save=\"_Fig_S6_D_left_pdo21.pdf\")"
   ]
  },
  {
   "cell_type": "code",
   "execution_count": null,
   "metadata": {},
   "outputs": [],
   "source": [
    "# Global Phate DR by condition\n",
    "sc.external.pl.phate(split_adata, color=['condition'],  \n",
    "frameon=False, add_outline=True, title='', palette=condition_cmap, save=\"_Fig_S6_D_right_pdo21.pdf\")"
   ]
  },
  {
   "cell_type": "code",
   "execution_count": null,
   "metadata": {},
   "outputs": [],
   "source": [
    "# Load PDO-21 epithelial only anndata object\n",
    "# Import data\n",
    "pdo_21_input_file = './pdo21_epi_adata_v4.h5ad'  # h5ad file exported from F6 analysis\n",
    "\n",
    "pdo21_adata = sc.read_h5ad(pdo_21_input_file)\n",
    "\n",
    "# Inspect data shape\n",
    "pdo21_adata"
   ]
  },
  {
   "cell_type": "code",
   "execution_count": null,
   "metadata": {},
   "outputs": [],
   "source": [
    "# Plot csc asscoiated scores on Phate DR\n",
    "sc.external.pl.phate(pdo21_adata,\n",
    "    color=[\"proCSCsign_sig\", \"revCSCsign_sig\", \"EntPelka21sign\"],\n",
    "    frameon=False, add_outline=True, color_map = \"viridis\", save=\"_Fig_S6_F_pdo21.pdf\")"
   ]
  },
  {
   "cell_type": "code",
   "execution_count": null,
   "metadata": {},
   "outputs": [],
   "source": [
    "# Plot MKI67 on PDO-21 Phate DR\n",
    "sc.external.pl.phate(pdo21_adata, color=['MKI67'], use_raw=True, \n",
    "frameon=False, add_outline=True, title='', color_map = \"viridis\", save=\"_Fig_S6_G_pdo21\")"
   ]
  }
 ],
 "metadata": {
  "kernelspec": {
   "display_name": "scanpy_v1",
   "language": "python",
   "name": "python3"
  },
  "language_info": {
   "codemirror_mode": {
    "name": "ipython",
    "version": 3
   },
   "file_extension": ".py",
   "mimetype": "text/x-python",
   "name": "python",
   "nbconvert_exporter": "python",
   "pygments_lexer": "ipython3",
   "version": "3.10.11"
  },
  "vscode": {
   "interpreter": {
    "hash": "3a89b950eb47d00185ca4cabfdcf398a7318f3a27f9b73dc976580ca743d59d8"
   }
  }
 },
 "nbformat": 4,
 "nbformat_minor": 4
}
