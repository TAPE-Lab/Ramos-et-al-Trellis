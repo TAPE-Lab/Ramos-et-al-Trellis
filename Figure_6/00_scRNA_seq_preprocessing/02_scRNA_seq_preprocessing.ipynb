{
 "cells": [
  {
   "attachments": {},
   "cell_type": "markdown",
   "metadata": {
    "tags": []
   },
   "source": [
    "# Preprocessing notebook for the PDO21 and PDO27 SPLiT-seq barcoding experiment datasets.\n",
    "\n",
    "This notebook loads the raw annotated .h5ad files for each of the 2x PDO-21 and PDO-27 SPLiT-seq sublibraries and performs QC, filtering and cell-type clustering for further analysis and figure generation. The input data to the notebook and the final anndata output of the notebook can be found at this zenodo link: https://zenodo.org/records/8177571 "
   ]
  },
  {
   "attachments": {},
   "cell_type": "markdown",
   "metadata": {},
   "source": [
    "## Load packages and plot settings"
   ]
  },
  {
   "cell_type": "code",
   "execution_count": null,
   "metadata": {},
   "outputs": [],
   "source": [
    "# Load packages\n",
    "import scanpy as sc\n",
    "import matplotlib as mpl\n",
    "import seaborn as sns\n",
    "from matplotlib import pyplot as plt\n",
    "import pandas as pd\n",
    "from copy import copy\n",
    "import numpy as np\n",
    "import sklearn as sk\n",
    "import scprep\n",
    "import phate\n",
    "import scrublet\n",
    "import random\n",
    "import anndata as ad"
   ]
  },
  {
   "cell_type": "code",
   "execution_count": null,
   "metadata": {
    "tags": []
   },
   "outputs": [],
   "source": [
    "# Setup the global plotting parameters\n",
    "sc.settings.verbosity = 3             # verbosity: errors (0), warnings (1), info (2), hints (3)\n",
    "sc.logging.print_header()\n",
    "sc.set_figure_params(dpi=100, color_map = \"viridis\", frameon=True, transparent=True,\n",
    "                    dpi_save=800, facecolor=\"None\", format=\"pdf\", figsize=[4,4])\n",
    "\n",
    "# Figure output directory\n",
    "sc.settings.figdir = 'figures/combined_qc_figures'\n",
    "\n",
    "# Set seed for reproducibility\n",
    "np.random.seed(12)"
   ]
  },
  {
   "attachments": {},
   "cell_type": "markdown",
   "metadata": {},
   "source": [
    "## Load PDO21 and PDO27 datasets"
   ]
  },
  {
   "cell_type": "code",
   "execution_count": null,
   "metadata": {},
   "outputs": [],
   "source": [
    "## Load 2x PDO-21 sublibraries\n",
    "# Read fps\n",
    "input_file_pdo21_s4 = '../../novaseq_run/split_tools_pdo21/exp013_p21_s4/filtered/h5ad_objects/exp013_p21_s4_sce_filtered.h5ad'  # h5ad file exported from preprocessing pipeline\n",
    "input_file_pdo21_s5 = '../../novaseq_run/split_tools_pdo21/exp013_p21_s5/filtered/h5ad_objects/exp013_p21_s5_sce_filtered.h5ad'\n",
    "\n",
    "# Import data into anndata object\n",
    "split_p21_adata_s4 = sc.read_h5ad(input_file_pdo21_s4)\n",
    "split_p21_adata_s5 = sc.read_h5ad(input_file_pdo21_s5)\n",
    "\n",
    "# Swap names for gene_ids\n",
    "p21_s4_var_df = split_p21_adata_s4.var\n",
    "p21_s4_var_df['gene_names'] = p21_s4_var_df.index\n",
    "p21_s4_var_df = p21_s4_var_df.set_index('gene_ids')\n",
    "p21_s4_var_df.index.name = None\n",
    "# Reassign\n",
    "split_p21_adata_s4.var = p21_s4_var_df\n",
    "\n",
    "# Swap names for gene_ids\n",
    "p21_s5_var_df = split_p21_adata_s5.var\n",
    "p21_s5_var_df['gene_names'] = p21_s5_var_df.index\n",
    "p21_s5_var_df = p21_s5_var_df.set_index('gene_ids')\n",
    "p21_s5_var_df.index.name = None\n",
    "# Reassign\n",
    "split_p21_adata_s5.var = p21_s5_var_df\n",
    "\n",
    "# Merge into single anndata\n",
    "# Observe the barcdoding dims after filtering\n",
    "print(\"PDO_21_s4 data shape:\", split_p21_adata_s4.shape)\n",
    "print(\"PDO_21_s5 data shape:\", split_p21_adata_s5.shape)\n",
    "\n",
    "# Mege the two anndata objects \n",
    "adatas_pdo_21 = {\n",
    "    \"pdo_21_s4\": split_p21_adata_s4,\n",
    "    \"pdo_21_s5\": split_p21_adata_s5\n",
    "}\n",
    "\n",
    "# Merge\n",
    "split_p21_adata = ad.concat(adatas_pdo_21, label=None, join=\"outer\")\n",
    "\n",
    "print(\"PDO_21 merged data shape:\", split_p21_adata.shape)"
   ]
  },
  {
   "cell_type": "code",
   "execution_count": null,
   "metadata": {},
   "outputs": [],
   "source": [
    "## Load 2x PDO-27 sublibraries\n",
    "# Read fps\n",
    "input_file_pdo27_s4 = '../../novaseq_run/split_tools_pdo27/exp013_p27_s4/filtered/h5ad_objects/exp013_p27_s4_sce_filtered.h5ad'  # h5ad file exported from preprocessing pipeline\n",
    "input_file_pdo27_s5 = '../../novaseq_run/split_tools_pdo27/exp013_p27_s5/filtered/h5ad_objects/exp013_p27_s5_sce_filtered.h5ad'\n",
    "\n",
    "# Import data into anndata object\n",
    "split_p27_adata_s4 = sc.read_h5ad(input_file_pdo27_s4)\n",
    "split_p27_adata_s5 = sc.read_h5ad(input_file_pdo27_s5)\n",
    "\n",
    "# Swap names for gene_ids\n",
    "p27_s4_var_df = split_p27_adata_s4.var\n",
    "p27_s4_var_df['gene_names'] = p27_s4_var_df.index\n",
    "p27_s4_var_df = p27_s4_var_df.set_index('gene_ids')\n",
    "p27_s4_var_df.index.name = None\n",
    "# Reassign\n",
    "split_p27_adata_s4.var = p27_s4_var_df\n",
    "\n",
    "# Swap names for gene_ids\n",
    "p27_s5_var_df = split_p27_adata_s5.var\n",
    "p27_s5_var_df['gene_names'] = p27_s5_var_df.index\n",
    "p27_s5_var_df = p27_s5_var_df.set_index('gene_ids')\n",
    "p27_s5_var_df.index.name = None\n",
    "# Reassign\n",
    "split_p27_adata_s5.var = p27_s5_var_df\n",
    "\n",
    "# Merge into single anndata\n",
    "# Observe the barcdoding dims after filtering\n",
    "print(\"PDO_27_s4 data shape:\", split_p27_adata_s4.shape)\n",
    "print(\"PDO_27_s5 data shape:\", split_p27_adata_s5.shape)\n",
    "\n",
    "# Mege the two anndata objects \n",
    "adatas_pdo_27 = {\n",
    "    \"pdo_27_s4\": split_p27_adata_s4,\n",
    "    \"pdo_27_s5\": split_p27_adata_s5\n",
    "}\n",
    "\n",
    "# Merge\n",
    "split_p27_adata = ad.concat(adatas_pdo_27, label=None, join=\"outer\")\n",
    "\n",
    "print(\"PDO_27 merged data shape:\", split_p27_adata.shape)"
   ]
  },
  {
   "attachments": {},
   "cell_type": "markdown",
   "metadata": {},
   "source": [
    "## Filtering based on QC metrics per SPLiT-seq experiment"
   ]
  },
  {
   "cell_type": "code",
   "execution_count": null,
   "metadata": {},
   "outputs": [],
   "source": [
    "# Extract MT gene names\n",
    "# Load gene mapping tsv\n",
    "gene_mapping_df = pd.read_csv(\"data/gene_names.txt\", sep='\\t')\n",
    "\n",
    "# Pull mitochondiral gene ids based on gene name\n",
    "mt_gene_df = gene_mapping_df[gene_mapping_df['gene_name'].str.startswith('MT-')]\n",
    "\n",
    "# Convert to list\n",
    "mt_gene_ids = mt_gene_df['gene_id'].tolist()\n",
    "\n",
    "# Take a look\n",
    "mt_gene_df"
   ]
  },
  {
   "cell_type": "code",
   "execution_count": null,
   "metadata": {},
   "outputs": [],
   "source": [
    "# Create a boolean mask for mitochondrial genes\n",
    "mito_mask_21 = [gene in mt_gene_ids for gene in split_p21_adata.var_names]\n",
    "mito_mask_27 = [gene in mt_gene_ids for gene in split_p27_adata.var_names]\n",
    "\n",
    "# Label mitochondiral genes and calculare QC metrics\n",
    "split_p21_adata.var['mt'] = mito_mask_21  # annotate the group of mitochondrial genes as 'mt'\n",
    "split_p27_adata.var['mt'] = mito_mask_27  # annotate the group of mitochondrial genes as 'mt'\n",
    "\n",
    "# Label qc metics per cell\n",
    "sc.pp.calculate_qc_metrics(split_p21_adata, qc_vars=['mt'], percent_top=None, log1p=False, inplace=True)\n",
    "sc.pp.calculate_qc_metrics(split_p27_adata, qc_vars=['mt'], percent_top=None, log1p=False, inplace=True)"
   ]
  },
  {
   "cell_type": "code",
   "execution_count": null,
   "metadata": {},
   "outputs": [],
   "source": [
    "# create a dictionary to map cluster to annotation label\n",
    "sampleid2condition = {\n",
    "     'CAF_1': 'Fibroblast',\n",
    "     'CAF_2': 'Fibroblast',\n",
    "     'CAF_3': 'Fibroblast',\n",
    "     'PDO_1': 'PDO',\n",
    "     'PDO_2': 'PDO',\n",
    "     'PDO_3': 'PDO',\n",
    "     'PDO_CAF_1': 'Coculture',\n",
    "     'PDO_CAF_2': 'Coculture',\n",
    "     'PDO_CAF_3': 'Coculture',\n",
    "}\n",
    "\n",
    "# add a new `.obs` column called `condition` by mapping clusters to annotation using `map` function\n",
    "split_p21_adata.obs['condition'] = split_p21_adata.obs['sample_id'].map(sampleid2condition).astype('category')\n",
    "split_p27_adata.obs['condition'] = split_p27_adata.obs['sample_id'].map(sampleid2condition).astype('category')\n"
   ]
  },
  {
   "cell_type": "code",
   "execution_count": null,
   "metadata": {},
   "outputs": [],
   "source": [
    "# Label the two PDO runs and culture conditions\n",
    "pdo_21_vec = np.repeat(['pdo21'], '22689', axis=0)\n",
    "pdo_27_vec = np.repeat(['pdo27'], '17163', axis=0)\n",
    "\n",
    "split_p21_adata.obs['pdo'] = pdo_21_vec\n",
    "split_p27_adata.obs['pdo'] = pdo_27_vec\n",
    "\n",
    "# Create new condition with two cocatenated metadata values\n",
    "cell_vec = split_p21_adata.obs['pdo'].astype('str')\n",
    "condition_vec = split_p21_adata.obs['condition'].astype('str')\n",
    "split_p21_adata.obs['cell_type_condition'] = cell_vec + \"_\" + condition_vec\n",
    "\n",
    "\n",
    "cell_vec = split_p27_adata.obs['pdo'].astype('str')\n",
    "condition_vec = split_p27_adata.obs['condition'].astype('str')\n",
    "split_p27_adata.obs['cell_type_condition'] = cell_vec + \"_\" + condition_vec\n",
    "\n"
   ]
  },
  {
   "cell_type": "code",
   "execution_count": null,
   "metadata": {},
   "outputs": [],
   "source": [
    "# PDO21 cell type filtering\n",
    "# Filtering possible outliers based on IQR of total counts\n",
    "# UMI IQR deviation by log10 value\n",
    "umi_total_log10_21 = np.log10(split_p21_adata.obs.total_counts)\n",
    "umi_med = umi_total_log10_21.median()\n",
    "\n",
    "# Include new .obs for log10 counts\n",
    "split_p21_adata.obs['log10_total_counts'] = umi_total_log10_21\n",
    "\n",
    "# Computing IQR\n",
    "Q1 = umi_total_log10_21.quantile(0.25)\n",
    "Q3 = umi_total_log10_21.quantile(0.75)\n",
    "IQR = Q3 - Q1\n",
    "IQR\n",
    "\n",
    "# UMI Cutoff for 2*IQR past the med of Log10\n",
    "umi_cutoff_up = umi_med + (2 * IQR)\n",
    "\n",
    "print(\"median log10(UMI): \", umi_med)\n",
    "print(\"Upper log10(UMI): \", umi_cutoff_up)\n",
    "\n",
    "# define outliers and filter the dataset\n",
    "split_p21_adata.obs['outlier_mt'] = split_p21_adata.obs.pct_counts_mt > 20\n",
    "split_p21_adata.obs['outlier_total'] = split_p21_adata.obs.log10_total_counts > umi_cutoff_up\n",
    "split_p21_adata.obs['lowq_total'] = split_p21_adata.obs.total_counts < 1000\n",
    "\n",
    "print('%u cells with high %% of mitochondrial genes' % (sum(split_p21_adata.obs['outlier_mt'])))\n",
    "print('%u cells with large total counts' % (sum(split_p21_adata.obs['outlier_total'])))\n",
    "print('%u cells with low number of total counts' % (sum(split_p21_adata.obs['lowq_total'])))\n",
    "\n",
    "\n",
    "split_p21_adata = split_p21_adata[~split_p21_adata.obs['outlier_mt'], :]\n",
    "split_p21_adata = split_p21_adata[~split_p21_adata.obs['outlier_total'], :]\n",
    "split_p21_adata = split_p21_adata[~split_p21_adata.obs['lowq_total'], :]"
   ]
  },
  {
   "cell_type": "code",
   "execution_count": null,
   "metadata": {},
   "outputs": [],
   "source": [
    "# Repeat filtering for PDO27\n",
    "# Filtering possible outliers based on IQR of total counts\n",
    "# UMI IQR deviation by log10 value\n",
    "umi_total_log10_27 = np.log10(split_p27_adata.obs.total_counts)\n",
    "umi_med = umi_total_log10_27.median()\n",
    "\n",
    "# Include new .obs for log10 counts\n",
    "split_p27_adata.obs['log10_total_counts'] = umi_total_log10_27\n",
    "\n",
    "# Computing IQR\n",
    "Q1 = umi_total_log10_27.quantile(0.25)\n",
    "Q3 = umi_total_log10_27.quantile(0.75)\n",
    "IQR = Q3 - Q1\n",
    "IQR\n",
    "\n",
    "# UMI Cutoff for 2*IQR past the med of Log10\n",
    "umi_cutoff_up = umi_med + (2 * IQR)\n",
    "\n",
    "print(\"median log10(UMI): \", umi_med)\n",
    "print(\"Upper log10(UMI): \", umi_cutoff_up)\n",
    "\n",
    "# Define outliers and filter the dataset\n",
    "split_p27_adata.obs['outlier_mt'] = split_p27_adata.obs.pct_counts_mt > 20\n",
    "split_p27_adata.obs['outlier_total'] = split_p27_adata.obs.log10_total_counts > umi_cutoff_up\n",
    "split_p27_adata.obs['lowq_total'] = split_p27_adata.obs.total_counts < 1000\n",
    "\n",
    "print('%u cells with high %% of mitochondrial genes' % (sum(split_p27_adata.obs['outlier_mt'])))\n",
    "print('%u cells with large total counts' % (sum(split_p27_adata.obs['outlier_total'])))\n",
    "print('%u cells with low number of total counts' % (sum(split_p27_adata.obs['lowq_total'])))\n",
    "\n",
    "\n",
    "split_p27_adata = split_p27_adata[~split_p27_adata.obs['outlier_mt'], :]\n",
    "split_p27_adata = split_p27_adata[~split_p27_adata.obs['outlier_total'], :]\n",
    "split_p27_adata = split_p27_adata[~split_p27_adata.obs['lowq_total'], :]"
   ]
  },
  {
   "cell_type": "code",
   "execution_count": null,
   "metadata": {},
   "outputs": [],
   "source": [
    "# Filter low complexity cells and lowly expressed genes\n",
    "# PDO_21\n",
    "split_p21_adata.var_names_make_unique()\n",
    "print(split_p21_adata)\n",
    "sc.pp.filter_cells(split_p21_adata, min_genes=400)\n",
    "sc.pp.filter_genes(split_p21_adata, min_cells=25)\n",
    "\n",
    "# PDO_27\n",
    "split_p27_adata.var_names_make_unique()\n",
    "print(split_p27_adata)\n",
    "sc.pp.filter_cells(split_p27_adata, min_genes=400)\n",
    "sc.pp.filter_genes(split_p27_adata, min_cells=25)"
   ]
  },
  {
   "attachments": {},
   "cell_type": "markdown",
   "metadata": {},
   "source": [
    "## Cell doublet cleanup with Scrublet"
   ]
  },
  {
   "cell_type": "code",
   "execution_count": null,
   "metadata": {},
   "outputs": [],
   "source": [
    "# Estimated doublet rate at 3% based of prior data\n",
    "sc.external.pp.scrublet(split_p21_adata, expected_doublet_rate=0.03, threshold=0.19)"
   ]
  },
  {
   "cell_type": "code",
   "execution_count": null,
   "metadata": {},
   "outputs": [],
   "source": [
    "# Estimated doublet rate at 3% \n",
    "sc.external.pp.scrublet(split_p27_adata, expected_doublet_rate=0.03, threshold=0.18)"
   ]
  },
  {
   "attachments": {},
   "cell_type": "markdown",
   "metadata": {},
   "source": [
    "## Final Merging"
   ]
  },
  {
   "cell_type": "code",
   "execution_count": null,
   "metadata": {},
   "outputs": [],
   "source": [
    "# Observe the barcoding dims after filtering\n",
    "print(\"PDO_21 data shape:\", split_p21_adata.shape)\n",
    "print(\"PDO_27 data shape:\", split_p27_adata.shape)\n",
    "\n",
    "# Mege the two data objects \n",
    "adatas = {\n",
    "    \"pdo_21\": split_p21_adata,\n",
    "    \"pdo_27\": split_p27_adata\n",
    "}\n",
    "\n",
    "merged_adata = ad.concat(adatas, label=\"dataset\", index_unique=\"_\", join=\"outer\")"
   ]
  },
  {
   "cell_type": "code",
   "execution_count": null,
   "metadata": {},
   "outputs": [],
   "source": [
    "# Re-assign gene names from gene_ids\n",
    "gene_names = gene_mapping_df.set_index('gene_id').loc[merged_adata.var_names, 'gene_name']\n",
    "merged_adata.var['gene_names'] = gene_names\n",
    "\n",
    "# stash gene_ids for later\n",
    "merged_adata_var_df = merged_adata.var\n",
    "merged_adata_var_df['gene_ids'] = merged_adata_var_df.index\n",
    "\n",
    "# Reassign\n",
    "merged_adata.var = merged_adata_var_df\n",
    "\n",
    "# Check the var for correct names\n",
    "merged_adata.var"
   ]
  },
  {
   "cell_type": "code",
   "execution_count": null,
   "metadata": {},
   "outputs": [],
   "source": [
    "# Assign counts layer\n",
    "merged_adata.layers['counts']=merged_adata.X.copy()\n",
    "\n",
    "# Check merged data\n",
    "merged_adata"
   ]
  },
  {
   "attachments": {},
   "cell_type": "markdown",
   "metadata": {},
   "source": [
    "## Generate phate to view doublets for cleanup"
   ]
  },
  {
   "cell_type": "code",
   "execution_count": null,
   "metadata": {},
   "outputs": [],
   "source": [
    "# Count based normalization\n",
    "sc.pp.normalize_total(merged_adata, target_sum=1e4, exclude_highly_expressed=True, max_fraction=0.05) \n",
    "\n",
    "# Log \n",
    "sc.pp.log1p(merged_adata)\n",
    "\n",
    "# Find variable genes for downstream leiden clustering\n",
    "sc.pp.highly_variable_genes( \n",
    "    merged_adata,\n",
    "    n_top_genes=5000,\n",
    "    flavor=\"seurat_v3\",\n",
    "    layer=\"counts\",\n",
    "    subset=False\n",
    ")"
   ]
  },
  {
   "cell_type": "code",
   "execution_count": null,
   "metadata": {},
   "outputs": [],
   "source": [
    "# Reassign gene names and make variables unique\n",
    "merged_adata_var_df = merged_adata.var\n",
    "merged_adata_var_df['gene_names'] = merged_adata_var_df['gene_names'].astype('str')\n",
    "merged_adata_var_df = merged_adata_var_df.set_index('gene_names')\n",
    "merged_adata_var_df.index.name = None\n",
    "\n",
    "# Reassign\n",
    "merged_adata.var = merged_adata_var_df\n",
    "\n",
    "# Make names unique\n",
    "merged_adata.var_names_make_unique()"
   ]
  },
  {
   "cell_type": "code",
   "execution_count": null,
   "metadata": {},
   "outputs": [],
   "source": [
    "# Save log-norm data for downstream analysis\n",
    "merged_adata.raw = merged_adata"
   ]
  },
  {
   "cell_type": "code",
   "execution_count": null,
   "metadata": {},
   "outputs": [],
   "source": [
    "# Scale data for PCA and SNN clustering\n",
    "sc.pp.scale(merged_adata, max_value=10) # Scale each gene to unit variance. Clip values exceeding standard deviation 10.\n",
    "sc.tl.pca(merged_adata, n_comps=100, svd_solver='arpack')"
   ]
  },
  {
   "cell_type": "code",
   "execution_count": null,
   "metadata": {},
   "outputs": [],
   "source": [
    "# Convert predicted doublet assignment to str\n",
    "merged_adata.obs['predicted_doublet'] = merged_adata.obs['predicted_doublet'].astype(str).astype('category')\n",
    "\n",
    "# Visualise PCA space\n",
    "sc.pl.pca(merged_adata, color=['cell_type_condition', 'doublet_score', 'predicted_doublet'], components=['1,2'], ncols=1, save='_merged_pca_scrublet')"
   ]
  },
  {
   "cell_type": "code",
   "execution_count": null,
   "metadata": {},
   "outputs": [],
   "source": [
    "# Run phate to inspect doublets\n",
    "sc.external.tl.phate(merged_adata, t=7, random_state=12) "
   ]
  },
  {
   "cell_type": "code",
   "execution_count": null,
   "metadata": {},
   "outputs": [],
   "source": [
    "# View the RNA phate\n",
    "sc.external.pl.phate(merged_adata, color=['cell_type_condition', 'doublet_score', 'predicted_doublet'], ncols=1,  \n",
    "frameon=False, add_outline=True, title='', save=\"_all_pdo_doublets\")"
   ]
  },
  {
   "cell_type": "code",
   "execution_count": null,
   "metadata": {},
   "outputs": [],
   "source": [
    "# High level clustering to identify top-level cell types\n",
    "sc.pp.neighbors(merged_adata, n_pcs=50, n_neighbors=100, random_state=12)\n",
    "sc.tl.leiden(merged_adata, resolution = 0.1, random_state=12, key_added=\"leidenr0.1\")\n",
    "sc.external.pl.phate(merged_adata, color='leidenr0.1', use_raw=True, \n",
    "frameon=False, add_outline=True, title='', save=\"_merged_leiden0.1\")"
   ]
  },
  {
   "cell_type": "code",
   "execution_count": null,
   "metadata": {},
   "outputs": [],
   "source": [
    "# Get the leiden cluster labels\n",
    "original_labels = merged_adata.obs['leidenr0.1'].values\n",
    "\n",
    "new_cluster_names = {\n",
    "    '0': 'PDO', '1': 'Fibroblast', '2':'PDO'\n",
    "    }\n",
    "\n",
    "# Create an array to store the new cluster labels\n",
    "new_labels = np.empty_like(original_labels, dtype=object)\n",
    "\n",
    "# Assign new cluster labels based on the mapping\n",
    "for original_cluster, new_cluster in new_cluster_names.items():\n",
    "    mask = original_labels == original_cluster\n",
    "    new_labels[mask] = new_cluster\n",
    "\n",
    "# Update the cluster labels in the anndata object\n",
    "merged_adata.obs['cell_type'] = new_labels\n",
    "\n",
    "# add a new .obs column\n",
    "merged_adata.obs['condition'] = merged_adata.obs['sample_id'].map(sampleid2condition).astype('category')\n",
    "\n",
    "# Merge the two conditions into a new .obs column\n",
    "cell_type_vec = merged_adata.obs['cell_type'].astype('str')\n",
    "condition_vec = merged_adata.obs['condition'].astype('str')\n",
    "\n",
    "merged_adata.obs['cell_type_condition'] = cell_type_vec + \"_\" + condition_vec"
   ]
  },
  {
   "cell_type": "code",
   "execution_count": null,
   "metadata": {},
   "outputs": [],
   "source": [
    "# Define outliers and filter \n",
    "merged_adata.obs['doublet_outliers'] = merged_adata.obs.predicted_doublet.isin(['True'])\n",
    "\n",
    "print('%u cells with high probability of being doublets' % (sum(merged_adata.obs['doublet_outliers'])))\n",
    "\n",
    "merged_adata = merged_adata[~merged_adata.obs['doublet_outliers'], :]"
   ]
  },
  {
   "cell_type": "code",
   "execution_count": null,
   "metadata": {},
   "outputs": [],
   "source": [
    "# Remove CAF barcode collision doublets\n",
    "# Create a boolean mask for the excluded values\n",
    "exclude_values = ['PDO_Fibroblast']\n",
    "mask = ~merged_adata.obs['cell_type_condition'].isin(exclude_values)\n",
    "\n",
    "# Subset the anndata object using the boolean mask\n",
    "PDO_Fibroblast_doublets  =  merged_adata[merged_adata.obs['cell_type_condition'].isin(exclude_values)]\n",
    "merged_adata = merged_adata[mask]\n"
   ]
  },
  {
   "cell_type": "code",
   "execution_count": null,
   "metadata": {},
   "outputs": [],
   "source": [
    "# View the Phate DR\n",
    "sc.external.pl.phate(merged_adata, color=['cell_type_condition'], ncols=1,  \n",
    "frameon=False, add_outline=True, title='', save=\"_all_pdo_doubblet_filtered\")"
   ]
  },
  {
   "cell_type": "code",
   "execution_count": null,
   "metadata": {},
   "outputs": [],
   "source": [
    "# Merge rep and condition at pdo and rep level, set as new .obs\n",
    "pdo_vec = merged_adata.obs['pdo'].astype('str')\n",
    "sample_id_vec = merged_adata.obs['sample_id'].astype('str')\n",
    "\n",
    "merged_adata.obs['pdo_sample_id'] = pdo_vec + \"_\" + sample_id_vec"
   ]
  },
  {
   "cell_type": "code",
   "execution_count": null,
   "metadata": {},
   "outputs": [],
   "source": [
    "# Annotate replicates in .obs\n",
    "replicate_vec = [item.split(\"_\")[-1] for item in sample_id_vec]\n",
    "merged_adata.obs['pdo_replicate'] = pdo_vec + \"_\" + replicate_vec"
   ]
  },
  {
   "attachments": {},
   "cell_type": "markdown",
   "metadata": {},
   "source": [
    "# Rerun clustering for final global Phate embedding"
   ]
  },
  {
   "cell_type": "code",
   "execution_count": null,
   "metadata": {},
   "outputs": [],
   "source": [
    "# Run phate\n",
    "sc.external.tl.phate(merged_adata, t=7, random_state=12) "
   ]
  },
  {
   "cell_type": "code",
   "execution_count": null,
   "metadata": {},
   "outputs": [],
   "source": [
    "sc.tl.pca(merged_adata, n_comps=100, svd_solver='arpack')\n",
    "\n",
    "# High level clustering to identfy cell types\n",
    "sc.pp.neighbors(merged_adata, random_state=12, n_neighbors=100)\n",
    "sc.tl.leiden(merged_adata, resolution = 0.1, random_state=12, key_added=\"leidenr0.1\")\n"
   ]
  },
  {
   "cell_type": "code",
   "execution_count": null,
   "metadata": {},
   "outputs": [],
   "source": [
    "# Get the original cluster labels\n",
    "original_labels = merged_adata.obs['leidenr0.1'].values\n",
    "\n",
    "new_cluster_names = {\n",
    "    '0': 'PDO', '1': 'Fibroblast', '2':'PDO'\n",
    "    }\n",
    "\n",
    "# Create an array to store the new cluster labels\n",
    "new_labels = np.empty_like(original_labels, dtype=object)\n",
    "\n",
    "# Assign new cluster labels based on the mapping\n",
    "for original_cluster, new_cluster in new_cluster_names.items():\n",
    "    mask = original_labels == original_cluster\n",
    "    new_labels[mask] = new_cluster\n",
    "\n",
    "# Update the cluster labels in the AnnData object\n",
    "merged_adata.obs['cell_type'] = new_labels\n",
    "\n",
    "merged_adata.obs['condition'] = merged_adata.obs['sample_id'].map(sampleid2condition).astype('category')\n",
    "\n",
    "# Merge the two conditions into new .obs\n",
    "cell_type_vec = merged_adata.obs['cell_type'].astype('str')\n",
    "condition_vec = merged_adata.obs['condition'].astype('str')\n",
    "\n",
    "merged_adata.obs['cell_type_condition'] = cell_type_vec + \"_\" + condition_vec"
   ]
  },
  {
   "cell_type": "code",
   "execution_count": null,
   "metadata": {},
   "outputs": [],
   "source": [
    "# Write object to file\n",
    "merged_adata.write_h5ad(filename = 'merged_filtered_trellis_adata_v4.h5ad')"
   ]
  }
 ],
 "metadata": {
  "kernelspec": {
   "display_name": "scanpy_v1",
   "language": "python",
   "name": "python3"
  },
  "language_info": {
   "codemirror_mode": {
    "name": "ipython",
    "version": 3
   },
   "file_extension": ".py",
   "mimetype": "text/x-python",
   "name": "python",
   "nbconvert_exporter": "python",
   "pygments_lexer": "ipython3",
   "version": "3.10.11"
  },
  "vscode": {
   "interpreter": {
    "hash": "3a89b950eb47d00185ca4cabfdcf398a7318f3a27f9b73dc976580ca743d59d8"
   }
  }
 },
 "nbformat": 4,
 "nbformat_minor": 4
}
